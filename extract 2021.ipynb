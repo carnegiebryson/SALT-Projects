{
 "cells": [
  {
   "cell_type": "code",
   "execution_count": 1,
   "id": "b26a96de-1efe-4757-9550-92f8094797b2",
   "metadata": {},
   "outputs": [],
   "source": [
    "import pandas as pd\n",
    "import wget\n",
    "import zipfile\n",
    "import glob\n",
    "import os\n",
    "from bs4 import BeautifulSoup\n",
    "import requests\n",
    "from requests import get"
   ]
  },
  {
   "cell_type": "code",
   "execution_count": 2,
   "id": "b52508be",
   "metadata": {},
   "outputs": [],
   "source": [
    "#specify page to download zipfiles\n",
    "page = requests.get('https://www.bls.gov/cew/downloadable-data-files.htm') \n",
    "\n",
    "\n",
    "#convert html to .text\n",
    "tml = page.text\n",
    "\n",
    "# passing file to the BeautifulSoup constructor\n",
    "soup = BeautifulSoup(page.text, \"html.parser\")\n",
    "\n",
    "\n"
   ]
  },
  {
   "cell_type": "code",
   "execution_count": 6,
   "id": "bd356560",
   "metadata": {},
   "outputs": [
    {
     "name": "stdout",
     "output_type": "stream",
     "text": [
      "['2012', '2013', '2014', '2015', '2016', '2017', '2018', '2019', '2020', '2021']\n"
     ]
    }
   ],
   "source": [
    "#specify which years of data to download\n",
    "years_url = [str(i) for i in range(2012, 2022)]\n",
    "print(years_url)\n"
   ]
  },
  {
   "cell_type": "code",
   "execution_count": null,
   "id": "befd8cbb",
   "metadata": {},
   "outputs": [],
   "source": [
    "#create list of downloaded zipfiles\n",
    "link_list=[]\n"
   ]
  },
  {
   "cell_type": "code",
   "execution_count": null,
   "id": "4af22fbe",
   "metadata": {},
   "outputs": [],
   "source": [
    "# scraping naics files by year and excluding sic, download all relevant files for all years\n",
    "\n",
    "# find every a element that has href attribute\n",
    "for link in soup.find_all('a'):\n",
    "    url = link.get('href')\n",
    "    for year_url in years_url:\n",
    "        # filter for last 10 years and annual by industry\n",
    "        if (year_url in url) and (\"annual_by_industry\" in url): \n",
    "            print(url)\n",
    "            file_name = url.split(\"csv/\", 1)[1]\n",
    "            link_list.append(file_name)\n",
    "            with open (file_name, \"wb\") as file:\n",
    "                response = get(url)\n",
    "                file.write(response.content)\n",
    "        else: \n",
    "            continue\n"
   ]
  },
  {
   "cell_type": "code",
   "execution_count": 12,
   "id": "ae5e6561",
   "metadata": {},
   "outputs": [],
   "source": [
    "# create a list that holds all dataframes combined for all years\n",
    "li_all_year = []\n",
    "\n",
    "# create a list that holds all dataframes combined for all years\n",
    "#print(link_zipfile)\n",
    "for link_zipfile in link_list:\n",
    "    # create object for single year zipfile\n",
    "    zf = zipfile.ZipFile(link_zipfile) \n",
    "    # return all files within single year's zipfile\n",
    "    all_files = zf.namelist()\n",
    "    # create list that holds all the dataframes combined for within that specific year \n",
    "    li_year = []\n",
    "    #iteration for all files for a single year\n",
    "    for csv_filename in all_files:\n",
    "        \n",
    "        if \".csv\" in csv_filename:\n",
    "            df_year = pd.read_csv(zf.open(csv_filename), \n",
    "            dtype={\"area_fips\": object},\n",
    "            usecols=['area_fips' , 'industry_code', 'area_title', 'own_title', 'industry_title', 'total_annual_wages', 'annual_avg_emplvl', 'year'])\n",
    "            li_year.append(df_year)\n",
    "    concat_annual_df = pd.concat(li_year)\n",
    "    li_all_year.append(concat_annual_df)\n",
    "\n",
    "master_df = pd.concat(li_all_year)\n",
    "    "
   ]
  },
  {
   "cell_type": "code",
   "execution_count": 29,
   "id": "facd44b9",
   "metadata": {},
   "outputs": [],
   "source": [
    "# write df to csv\n",
    "master_df.to_csv('master.csv')"
   ]
  },
  {
   "cell_type": "code",
   "execution_count": null,
   "id": "3f80e421",
   "metadata": {},
   "outputs": [],
   "source": [
    "#read master.csv to test it was created\n",
    "saved_file = pd.read_csv(open('master.csv'),\n",
    "dtype={\"year\": int})\n"
   ]
  },
  {
   "cell_type": "code",
   "execution_count": 32,
   "id": "b41f99a4",
   "metadata": {},
   "outputs": [
    {
     "name": "stdout",
     "output_type": "stream",
     "text": [
      "       Unnamed: 0 area_fips industry_code  year  \\\n",
      "28500        2606     45000          1011  2021   \n",
      "28501        2607     45001          1011  2021   \n",
      "28502        2608     45003          1011  2021   \n",
      "28503        2609     45005          1011  2021   \n",
      "28504        2610     45007          1011  2021   \n",
      "\n",
      "                             area_title own_title  \\\n",
      "28500       South Carolina -- Statewide   Private   \n",
      "28501  Abbeville County, South Carolina   Private   \n",
      "28502      Aiken County, South Carolina   Private   \n",
      "28503  Allendale County, South Carolina   Private   \n",
      "28504   Anderson County, South Carolina   Private   \n",
      "\n",
      "                          industry_title  annual_avg_emplvl  \\\n",
      "28500  1011 Natural resources and mining              12250   \n",
      "28501  1011 Natural resources and mining                 41   \n",
      "28502  1011 Natural resources and mining                367   \n",
      "28503  1011 Natural resources and mining                127   \n",
      "28504  1011 Natural resources and mining                334   \n",
      "\n",
      "       total_annual_wages  \n",
      "28500           587312557  \n",
      "28501             1465937  \n",
      "28502            18108667  \n",
      "28503             5212722  \n",
      "28504            17452342  \n"
     ]
    }
   ],
   "source": [
    "#see slice of the saved master.csv\n",
    "print(saved_file[28500:28505])\n"
   ]
  },
  {
   "cell_type": "code",
   "execution_count": 24,
   "id": "0634320b",
   "metadata": {},
   "outputs": [
    {
     "name": "stdout",
     "output_type": "stream",
     "text": [
      "     area_fips industry_code  year                        area_title  \\\n",
      "2606     45000          1011  2021       South Carolina -- Statewide   \n",
      "2607     45001          1011  2021  Abbeville County, South Carolina   \n",
      "2608     45003          1011  2021      Aiken County, South Carolina   \n",
      "2609     45005          1011  2021  Allendale County, South Carolina   \n",
      "2610     45007          1011  2021   Anderson County, South Carolina   \n",
      "\n",
      "     own_title                     industry_title  annual_avg_emplvl  \\\n",
      "2606   Private  1011 Natural resources and mining              12250   \n",
      "2607   Private  1011 Natural resources and mining                 41   \n",
      "2608   Private  1011 Natural resources and mining                367   \n",
      "2609   Private  1011 Natural resources and mining                127   \n",
      "2610   Private  1011 Natural resources and mining                334   \n",
      "\n",
      "      total_annual_wages  \n",
      "2606           587312557  \n",
      "2607             1465937  \n",
      "2608            18108667  \n",
      "2609             5212722  \n",
      "2610            17452342  \n"
     ]
    }
   ],
   "source": [
    "#see slice of master_df\n",
    "print(master_df[28500:28505])\n"
   ]
  },
  {
   "attachments": {},
   "cell_type": "markdown",
   "id": "667c9dcf",
   "metadata": {},
   "source": [
    "Previous working cell used to develop the code is below:"
   ]
  },
  {
   "cell_type": "code",
   "execution_count": 8,
   "id": "a95cc2dd-ef8c-4b7f-ab1b-4b188fa32219",
   "metadata": {},
   "outputs": [
    {
     "data": {
      "text/plain": [
       "'2021_annual_by_industry.zip'"
      ]
     },
     "execution_count": 8,
     "metadata": {},
     "output_type": "execute_result"
    }
   ],
   "source": [
    "######### Begin Single Year, Single File\n",
    "\n",
    "\n",
    "qcew = \"https://data.bls.gov/cew/data/files/2021/csv/2021_annual_by_industry.zip\" \n",
    "# Begin single year\n",
    "wget.download(qcew) \n",
    "#download single year zip file\n",
    "zf = zipfile.ZipFile(\"2021_annual_by_industry.zip\") \n",
    "#create object for single year zipfile\n",
    "df = pd.read_csv(zf.open('2021.annual.by_industry/2021.annual 238991 NAICS 238991 All other residential trade contractors.csv'), \n",
    "usecols=['area_fips' , 'industry_code', 'area_title', 'own_title', 'industry_title', 'total_annual_wages', 'annual_avg_emplvl', 'year'])\n",
    "#read single year/ single industry .csv\n",
    "df.head()\n",
    "#verifty first lines of df\n"
   ]
  },
  {
   "cell_type": "code",
   "execution_count": null,
   "id": "039f8670",
   "metadata": {},
   "outputs": [],
   "source": []
  },
  {
   "cell_type": "code",
   "execution_count": 2,
   "id": "65114c16",
   "metadata": {},
   "outputs": [],
   "source": [
    "######### Begin Single Year, All Files\n",
    "\n",
    "\n",
    "zf = zipfile.ZipFile(\"2021_annual_by_industry.zip\") \n",
    "#create object for single year zipfile\n",
    "all_files = zf.namelist()\n",
    "li_2021 =[]\n",
    "# create list for all dataframes for year\n",
    "for filename in all_files:\n",
    "    if \".csv\" in filename:\n",
    "        df_2021 = pd.read_csv(zf.open(filename),\n",
    "        dtype={\"area_fips\": object},\n",
    "        usecols=['area_fips' , 'industry_code', 'area_title', 'own_title', 'industry_title', 'total_annual_wages', 'annual_avg_emplvl', 'year'])\n",
    "        li_2021.append(df_2021)\n",
    "            #iteration for all files in a single year\n",
    "    else: \n",
    "        continue\n",
    "\n",
    "concat_2021_df = pd.concat(li_2021)"
   ]
  },
  {
   "cell_type": "code",
   "execution_count": null,
   "id": "7c9d1d81",
   "metadata": {},
   "outputs": [],
   "source": [
    "############## previous working cells below \n"
   ]
  },
  {
   "cell_type": "code",
   "execution_count": null,
   "id": "54d37b8f",
   "metadata": {},
   "outputs": [],
   "source": [
    "parent_dir = os.getcwd()\n",
    "# parent directory path\n",
    "\n",
    "directory = \"documents/bls_data_project\"\n",
    "# directory\n",
    "\n",
    "newpath = os.path.join(parent_dir, directory)\n",
    "print(newpath)\n",
    "# path\n",
    "\n",
    "if os.path.exists(newpath):\n",
    "    os.makedirs(newpath)\n",
    "\n",
    "    # check if path exists, if false create new directory"
   ]
  },
  {
   "cell_type": "code",
   "execution_count": 13,
   "id": "261194d9",
   "metadata": {},
   "outputs": [
    {
     "data": {
      "text/plain": [
       "4462"
      ]
     },
     "execution_count": 13,
     "metadata": {},
     "output_type": "execute_result"
    }
   ],
   "source": [
    "len(li_2021)"
   ]
  },
  {
   "cell_type": "code",
   "execution_count": 31,
   "id": "833380a9",
   "metadata": {},
   "outputs": [
    {
     "data": {
      "text/plain": [
       "area_fips             object\n",
       "industry_code          int64\n",
       "year                   int64\n",
       "area_title            object\n",
       "own_title             object\n",
       "industry_title        object\n",
       "annual_avg_emplvl      int64\n",
       "total_annual_wages     int64\n",
       "dtype: object"
      ]
     },
     "execution_count": 31,
     "metadata": {},
     "output_type": "execute_result"
    }
   ],
   "source": [
    "df_2021.dtypes\n"
   ]
  },
  {
   "cell_type": "code",
   "execution_count": 3,
   "id": "d2874f75",
   "metadata": {},
   "outputs": [
    {
     "data": {
      "text/plain": [
       "'2021.annual.by_industry/2021.annual 238991 NAICS 238991 All other residential trade contractors.csv'"
      ]
     },
     "execution_count": 3,
     "metadata": {},
     "output_type": "execute_result"
    }
   ],
   "source": [
    "all_files[0]\n"
   ]
  },
  {
   "cell_type": "code",
   "execution_count": 41,
   "id": "6c17f556",
   "metadata": {},
   "outputs": [
    {
     "data": {
      "text/plain": [
       "2519"
      ]
     },
     "execution_count": 41,
     "metadata": {},
     "output_type": "execute_result"
    }
   ],
   "source": [
    "len(df_2021)"
   ]
  },
  {
   "cell_type": "code",
   "execution_count": 42,
   "id": "b669d551",
   "metadata": {},
   "outputs": [
    {
     "data": {
      "text/html": [
       "<div>\n",
       "<style scoped>\n",
       "    .dataframe tbody tr th:only-of-type {\n",
       "        vertical-align: middle;\n",
       "    }\n",
       "\n",
       "    .dataframe tbody tr th {\n",
       "        vertical-align: top;\n",
       "    }\n",
       "\n",
       "    .dataframe thead th {\n",
       "        text-align: right;\n",
       "    }\n",
       "</style>\n",
       "<table border=\"1\" class=\"dataframe\">\n",
       "  <thead>\n",
       "    <tr style=\"text-align: right;\">\n",
       "      <th></th>\n",
       "      <th>area_fips</th>\n",
       "      <th>industry_code</th>\n",
       "      <th>year</th>\n",
       "      <th>area_title</th>\n",
       "      <th>own_title</th>\n",
       "      <th>industry_title</th>\n",
       "      <th>annual_avg_emplvl</th>\n",
       "      <th>total_annual_wages</th>\n",
       "    </tr>\n",
       "  </thead>\n",
       "  <tbody>\n",
       "    <tr>\n",
       "      <th>0</th>\n",
       "      <td>01000</td>\n",
       "      <td>238991</td>\n",
       "      <td>2021</td>\n",
       "      <td>Alabama -- Statewide</td>\n",
       "      <td>Private</td>\n",
       "      <td>NAICS 238991 All other residential trade contr...</td>\n",
       "      <td>1249</td>\n",
       "      <td>60412058</td>\n",
       "    </tr>\n",
       "    <tr>\n",
       "      <th>1</th>\n",
       "      <td>01001</td>\n",
       "      <td>238991</td>\n",
       "      <td>2021</td>\n",
       "      <td>Autauga County, Alabama</td>\n",
       "      <td>Private</td>\n",
       "      <td>NAICS 238991 All other residential trade contr...</td>\n",
       "      <td>0</td>\n",
       "      <td>0</td>\n",
       "    </tr>\n",
       "    <tr>\n",
       "      <th>2</th>\n",
       "      <td>01003</td>\n",
       "      <td>238991</td>\n",
       "      <td>2021</td>\n",
       "      <td>Baldwin County, Alabama</td>\n",
       "      <td>Private</td>\n",
       "      <td>NAICS 238991 All other residential trade contr...</td>\n",
       "      <td>128</td>\n",
       "      <td>5836986</td>\n",
       "    </tr>\n",
       "    <tr>\n",
       "      <th>3</th>\n",
       "      <td>01005</td>\n",
       "      <td>238991</td>\n",
       "      <td>2021</td>\n",
       "      <td>Barbour County, Alabama</td>\n",
       "      <td>Private</td>\n",
       "      <td>NAICS 238991 All other residential trade contr...</td>\n",
       "      <td>0</td>\n",
       "      <td>0</td>\n",
       "    </tr>\n",
       "    <tr>\n",
       "      <th>4</th>\n",
       "      <td>01009</td>\n",
       "      <td>238991</td>\n",
       "      <td>2021</td>\n",
       "      <td>Blount County, Alabama</td>\n",
       "      <td>Private</td>\n",
       "      <td>NAICS 238991 All other residential trade contr...</td>\n",
       "      <td>0</td>\n",
       "      <td>0</td>\n",
       "    </tr>\n",
       "  </tbody>\n",
       "</table>\n",
       "</div>"
      ],
      "text/plain": [
       "  area_fips  industry_code  year               area_title own_title  \\\n",
       "0     01000         238991  2021     Alabama -- Statewide   Private   \n",
       "1     01001         238991  2021  Autauga County, Alabama   Private   \n",
       "2     01003         238991  2021  Baldwin County, Alabama   Private   \n",
       "3     01005         238991  2021  Barbour County, Alabama   Private   \n",
       "4     01009         238991  2021   Blount County, Alabama   Private   \n",
       "\n",
       "                                      industry_title  annual_avg_emplvl  \\\n",
       "0  NAICS 238991 All other residential trade contr...               1249   \n",
       "1  NAICS 238991 All other residential trade contr...                  0   \n",
       "2  NAICS 238991 All other residential trade contr...                128   \n",
       "3  NAICS 238991 All other residential trade contr...                  0   \n",
       "4  NAICS 238991 All other residential trade contr...                  0   \n",
       "\n",
       "   total_annual_wages  \n",
       "0            60412058  \n",
       "1                   0  \n",
       "2             5836986  \n",
       "3                   0  \n",
       "4                   0  "
      ]
     },
     "execution_count": 42,
     "metadata": {},
     "output_type": "execute_result"
    }
   ],
   "source": [
    "df.head()"
   ]
  },
  {
   "cell_type": "code",
   "execution_count": 4,
   "id": "ae1d64f4",
   "metadata": {},
   "outputs": [],
   "source": [
    "df = pd.read_csv(all_files[0])"
   ]
  },
  {
   "cell_type": "code",
   "execution_count": 7,
   "id": "da05fce7",
   "metadata": {},
   "outputs": [
    {
     "data": {
      "text/html": [
       "<div>\n",
       "<style scoped>\n",
       "    .dataframe tbody tr th:only-of-type {\n",
       "        vertical-align: middle;\n",
       "    }\n",
       "\n",
       "    .dataframe tbody tr th {\n",
       "        vertical-align: top;\n",
       "    }\n",
       "\n",
       "    .dataframe thead th {\n",
       "        text-align: right;\n",
       "    }\n",
       "</style>\n",
       "<table border=\"1\" class=\"dataframe\">\n",
       "  <thead>\n",
       "    <tr style=\"text-align: right;\">\n",
       "      <th></th>\n",
       "      <th>area_fips</th>\n",
       "      <th>area_title</th>\n",
       "      <th>own_title</th>\n",
       "      <th>industry_title</th>\n",
       "      <th>total_annual_wages</th>\n",
       "      <th>annual_avg_emplvl</th>\n",
       "      <th>year</th>\n",
       "    </tr>\n",
       "  </thead>\n",
       "  <tbody>\n",
       "    <tr>\n",
       "      <th>0</th>\n",
       "      <td>01000</td>\n",
       "      <td>Alabama -- Statewide</td>\n",
       "      <td>Private</td>\n",
       "      <td>NAICS 238991 All other residential trade contr...</td>\n",
       "      <td>60412058</td>\n",
       "      <td>1249</td>\n",
       "      <td>2021</td>\n",
       "    </tr>\n",
       "    <tr>\n",
       "      <th>1</th>\n",
       "      <td>01001</td>\n",
       "      <td>Autauga County, Alabama</td>\n",
       "      <td>Private</td>\n",
       "      <td>NAICS 238991 All other residential trade contr...</td>\n",
       "      <td>0</td>\n",
       "      <td>0</td>\n",
       "      <td>2021</td>\n",
       "    </tr>\n",
       "    <tr>\n",
       "      <th>2</th>\n",
       "      <td>01003</td>\n",
       "      <td>Baldwin County, Alabama</td>\n",
       "      <td>Private</td>\n",
       "      <td>NAICS 238991 All other residential trade contr...</td>\n",
       "      <td>5836986</td>\n",
       "      <td>128</td>\n",
       "      <td>2021</td>\n",
       "    </tr>\n",
       "    <tr>\n",
       "      <th>3</th>\n",
       "      <td>01005</td>\n",
       "      <td>Barbour County, Alabama</td>\n",
       "      <td>Private</td>\n",
       "      <td>NAICS 238991 All other residential trade contr...</td>\n",
       "      <td>0</td>\n",
       "      <td>0</td>\n",
       "      <td>2021</td>\n",
       "    </tr>\n",
       "    <tr>\n",
       "      <th>4</th>\n",
       "      <td>01009</td>\n",
       "      <td>Blount County, Alabama</td>\n",
       "      <td>Private</td>\n",
       "      <td>NAICS 238991 All other residential trade contr...</td>\n",
       "      <td>0</td>\n",
       "      <td>0</td>\n",
       "      <td>2021</td>\n",
       "    </tr>\n",
       "  </tbody>\n",
       "</table>\n",
       "</div>"
      ],
      "text/plain": [
       "  area_fips               area_title own_title  \\\n",
       "0     01000     Alabama -- Statewide   Private   \n",
       "1     01001  Autauga County, Alabama   Private   \n",
       "2     01003  Baldwin County, Alabama   Private   \n",
       "3     01005  Barbour County, Alabama   Private   \n",
       "4     01009   Blount County, Alabama   Private   \n",
       "\n",
       "                                      industry_title  total_annual_wages  \\\n",
       "0  NAICS 238991 All other residential trade contr...            60412058   \n",
       "1  NAICS 238991 All other residential trade contr...                   0   \n",
       "2  NAICS 238991 All other residential trade contr...             5836986   \n",
       "3  NAICS 238991 All other residential trade contr...                   0   \n",
       "4  NAICS 238991 All other residential trade contr...                   0   \n",
       "\n",
       "   annual_avg_emplvl  year  \n",
       "0               1249  2021  \n",
       "1                  0  2021  \n",
       "2                128  2021  \n",
       "3                  0  2021  \n",
       "4                  0  2021  "
      ]
     },
     "execution_count": 7,
     "metadata": {},
     "output_type": "execute_result"
    }
   ],
   "source": [
    "df.dtypes\n",
    "df[col_list].head()"
   ]
  },
  {
   "cell_type": "code",
   "execution_count": 8,
   "id": "21b96b48",
   "metadata": {},
   "outputs": [
    {
     "data": {
      "text/plain": [
       "Index(['area_fips', 'own_code', 'industry_code', 'agglvl_code', 'size_code',\n",
       "       'year', 'qtr', 'disclosure_code', 'area_title', 'own_title',\n",
       "       'industry_title', 'agglvl_title', 'size_title',\n",
       "       'annual_avg_estabs_count', 'annual_avg_emplvl', 'total_annual_wages',\n",
       "       'taxable_annual_wages', 'annual_contributions', 'annual_avg_wkly_wage',\n",
       "       'avg_annual_pay', 'lq_disclosure_code', 'lq_annual_avg_estabs_count',\n",
       "       'lq_annual_avg_emplvl', 'lq_total_annual_wages',\n",
       "       'lq_taxable_annual_wages', 'lq_annual_contributions',\n",
       "       'lq_annual_avg_wkly_wage', 'lq_avg_annual_pay', 'oty_disclosure_code',\n",
       "       'oty_annual_avg_estabs_count_chg',\n",
       "       'oty_annual_avg_estabs_count_pct_chg', 'oty_annual_avg_emplvl_chg',\n",
       "       'oty_annual_avg_emplvl_pct_chg', 'oty_total_annual_wages_chg',\n",
       "       'oty_total_annual_wages_pct_chg', 'oty_taxable_annual_wages_chg',\n",
       "       'oty_taxable_annual_wages_pct_chg', 'oty_annual_contributions_chg',\n",
       "       'oty_annual_contributions_pct_chg', 'oty_annual_avg_wkly_wage_chg',\n",
       "       'oty_annual_avg_wkly_wage_pct_chg', 'oty_avg_annual_pay_chg',\n",
       "       'oty_avg_annual_pay_pct_chg'],\n",
       "      dtype='object')"
      ]
     },
     "execution_count": 8,
     "metadata": {},
     "output_type": "execute_result"
    }
   ],
   "source": [
    "df.columns"
   ]
  },
  {
   "cell_type": "code",
   "execution_count": 9,
   "id": "28d7cb18",
   "metadata": {},
   "outputs": [
    {
     "data": {
      "text/plain": [
       "0       238991\n",
       "1       238991\n",
       "2       238991\n",
       "3       238991\n",
       "4       238991\n",
       "         ...  \n",
       "2766    238991\n",
       "2767    238991\n",
       "2768    238991\n",
       "2769    238991\n",
       "2770    238991\n",
       "Name: industry_code, Length: 2771, dtype: int64"
      ]
     },
     "execution_count": 9,
     "metadata": {},
     "output_type": "execute_result"
    }
   ],
   "source": [
    "df.industry_code"
   ]
  },
  {
   "cell_type": "code",
   "execution_count": 29,
   "id": "ff118aba-fece-4365-989b-eb6019ecd36e",
   "metadata": {},
   "outputs": [],
   "source": [
    "df_list = [pd.read_csv(f, dtype={'area_fips': str}) for f in all_files]"
   ]
  },
  {
   "cell_type": "code",
   "execution_count": 30,
   "id": "d078a829-892d-42c2-88d4-933834a0ebad",
   "metadata": {},
   "outputs": [],
   "source": [
    "twentyone = pd.concat(df_list, ignore_index=True)\n"
   ]
  },
  {
   "cell_type": "code",
   "execution_count": null,
   "id": "426c693b",
   "metadata": {},
   "outputs": [],
   "source": []
  },
  {
   "cell_type": "code",
   "execution_count": null,
   "id": "e991fe87-eceb-49d6-b9ca-f7ec50edf7c6",
   "metadata": {},
   "outputs": [],
   "source": [
    "national = twentyone['area_title'].str.contains('statewide', case=False, na=False)"
   ]
  },
  {
   "cell_type": "code",
   "execution_count": null,
   "id": "8e7f138c-7903-46f3-9924-4898a9dc7727",
   "metadata": {},
   "outputs": [],
   "source": [
    "twentyone = twentyone[national]"
   ]
  },
  {
   "cell_type": "code",
   "execution_count": null,
   "id": "a5351719-4f58-4f5e-a004-be568fcc062b",
   "metadata": {},
   "outputs": [],
   "source": [
    "twentyone.head(3)"
   ]
  },
  {
   "cell_type": "code",
   "execution_count": 6,
   "id": "73e6566f-1609-4499-9600-be97b681aa90",
   "metadata": {},
   "outputs": [],
   "source": [
    "col_list = ['area_fips' , 'area_title', 'own_title', 'industry_title', 'total_annual_wages', 'annual_avg_emplvl', 'year']"
   ]
  },
  {
   "cell_type": "code",
   "execution_count": 118,
   "id": "e2a5cdfc-0fb1-4780-9671-cd2d156d6119",
   "metadata": {},
   "outputs": [],
   "source": [
    "twentyone = twentyone[col_list]"
   ]
  },
  {
   "cell_type": "code",
   "execution_count": 119,
   "id": "2fc66cb2-adae-4f70-8310-9f066a9b12e8",
   "metadata": {},
   "outputs": [
    {
     "data": {
      "text/html": [
       "<div>\n",
       "<style scoped>\n",
       "    .dataframe tbody tr th:only-of-type {\n",
       "        vertical-align: middle;\n",
       "    }\n",
       "\n",
       "    .dataframe tbody tr th {\n",
       "        vertical-align: top;\n",
       "    }\n",
       "\n",
       "    .dataframe thead th {\n",
       "        text-align: right;\n",
       "    }\n",
       "</style>\n",
       "<table border=\"1\" class=\"dataframe\">\n",
       "  <thead>\n",
       "    <tr style=\"text-align: right;\">\n",
       "      <th></th>\n",
       "      <th>area_fips</th>\n",
       "      <th>area_title</th>\n",
       "      <th>own_title</th>\n",
       "      <th>industry_title</th>\n",
       "      <th>total_annual_wages</th>\n",
       "      <th>annual_avg_emplvl</th>\n",
       "      <th>year</th>\n",
       "    </tr>\n",
       "  </thead>\n",
       "  <tbody>\n",
       "    <tr>\n",
       "      <th>0</th>\n",
       "      <td>01000</td>\n",
       "      <td>Alabama -- Statewide</td>\n",
       "      <td>Private</td>\n",
       "      <td>NAICS 238991 All other residential trade contr...</td>\n",
       "      <td>60297403</td>\n",
       "      <td>1246</td>\n",
       "      <td>1246</td>\n",
       "    </tr>\n",
       "    <tr>\n",
       "      <th>47</th>\n",
       "      <td>02000</td>\n",
       "      <td>Alaska -- Statewide</td>\n",
       "      <td>Private</td>\n",
       "      <td>NAICS 238991 All other residential trade contr...</td>\n",
       "      <td>7911995</td>\n",
       "      <td>129</td>\n",
       "      <td>129</td>\n",
       "    </tr>\n",
       "    <tr>\n",
       "      <th>56</th>\n",
       "      <td>04000</td>\n",
       "      <td>Arizona -- Statewide</td>\n",
       "      <td>Private</td>\n",
       "      <td>NAICS 238991 All other residential trade contr...</td>\n",
       "      <td>247459724</td>\n",
       "      <td>4342</td>\n",
       "      <td>4342</td>\n",
       "    </tr>\n",
       "    <tr>\n",
       "      <th>72</th>\n",
       "      <td>05000</td>\n",
       "      <td>Arkansas -- Statewide</td>\n",
       "      <td>Private</td>\n",
       "      <td>NAICS 238991 All other residential trade contr...</td>\n",
       "      <td>46546916</td>\n",
       "      <td>1102</td>\n",
       "      <td>1102</td>\n",
       "    </tr>\n",
       "    <tr>\n",
       "      <th>113</th>\n",
       "      <td>06000</td>\n",
       "      <td>California -- Statewide</td>\n",
       "      <td>Private</td>\n",
       "      <td>NAICS 238991 All other residential trade contr...</td>\n",
       "      <td>1347624201</td>\n",
       "      <td>21586</td>\n",
       "      <td>21586</td>\n",
       "    </tr>\n",
       "    <tr>\n",
       "      <th>...</th>\n",
       "      <td>...</td>\n",
       "      <td>...</td>\n",
       "      <td>...</td>\n",
       "      <td>...</td>\n",
       "      <td>...</td>\n",
       "      <td>...</td>\n",
       "      <td>...</td>\n",
       "    </tr>\n",
       "    <tr>\n",
       "      <th>3626681</th>\n",
       "      <td>55000</td>\n",
       "      <td>Wisconsin -- Statewide</td>\n",
       "      <td>Local Government</td>\n",
       "      <td>NAICS 561990 All other support services</td>\n",
       "      <td>0</td>\n",
       "      <td>0</td>\n",
       "      <td>0</td>\n",
       "    </tr>\n",
       "    <tr>\n",
       "      <th>3626682</th>\n",
       "      <td>55000</td>\n",
       "      <td>Wisconsin -- Statewide</td>\n",
       "      <td>Private</td>\n",
       "      <td>NAICS 561990 All other support services</td>\n",
       "      <td>134879886</td>\n",
       "      <td>3995</td>\n",
       "      <td>3995</td>\n",
       "    </tr>\n",
       "    <tr>\n",
       "      <th>3626742</th>\n",
       "      <td>56000</td>\n",
       "      <td>Wyoming -- Statewide</td>\n",
       "      <td>Private</td>\n",
       "      <td>NAICS 561990 All other support services</td>\n",
       "      <td>17297582</td>\n",
       "      <td>458</td>\n",
       "      <td>458</td>\n",
       "    </tr>\n",
       "    <tr>\n",
       "      <th>3626757</th>\n",
       "      <td>72000</td>\n",
       "      <td>Puerto Rico -- Statewide</td>\n",
       "      <td>Private</td>\n",
       "      <td>NAICS 561990 All other support services</td>\n",
       "      <td>8483082</td>\n",
       "      <td>343</td>\n",
       "      <td>343</td>\n",
       "    </tr>\n",
       "    <tr>\n",
       "      <th>3626781</th>\n",
       "      <td>78000</td>\n",
       "      <td>Virgin Islands -- Statewide</td>\n",
       "      <td>Private</td>\n",
       "      <td>NAICS 561990 All other support services</td>\n",
       "      <td>0</td>\n",
       "      <td>0</td>\n",
       "      <td>0</td>\n",
       "    </tr>\n",
       "  </tbody>\n",
       "</table>\n",
       "<p>136951 rows × 7 columns</p>\n",
       "</div>"
      ],
      "text/plain": [
       "        area_fips                   area_title         own_title  \\\n",
       "0           01000         Alabama -- Statewide           Private   \n",
       "47          02000          Alaska -- Statewide           Private   \n",
       "56          04000         Arizona -- Statewide           Private   \n",
       "72          05000        Arkansas -- Statewide           Private   \n",
       "113         06000      California -- Statewide           Private   \n",
       "...           ...                          ...               ...   \n",
       "3626681     55000       Wisconsin -- Statewide  Local Government   \n",
       "3626682     55000       Wisconsin -- Statewide           Private   \n",
       "3626742     56000         Wyoming -- Statewide           Private   \n",
       "3626757     72000     Puerto Rico -- Statewide           Private   \n",
       "3626781     78000  Virgin Islands -- Statewide           Private   \n",
       "\n",
       "                                            industry_title  \\\n",
       "0        NAICS 238991 All other residential trade contr...   \n",
       "47       NAICS 238991 All other residential trade contr...   \n",
       "56       NAICS 238991 All other residential trade contr...   \n",
       "72       NAICS 238991 All other residential trade contr...   \n",
       "113      NAICS 238991 All other residential trade contr...   \n",
       "...                                                    ...   \n",
       "3626681            NAICS 561990 All other support services   \n",
       "3626682            NAICS 561990 All other support services   \n",
       "3626742            NAICS 561990 All other support services   \n",
       "3626757            NAICS 561990 All other support services   \n",
       "3626781            NAICS 561990 All other support services   \n",
       "\n",
       "         total_annual_wages  annual_avg_emplvl   year  \n",
       "0                  60297403               1246   1246  \n",
       "47                  7911995                129    129  \n",
       "56                247459724               4342   4342  \n",
       "72                 46546916               1102   1102  \n",
       "113              1347624201              21586  21586  \n",
       "...                     ...                ...    ...  \n",
       "3626681                   0                  0      0  \n",
       "3626682           134879886               3995   3995  \n",
       "3626742            17297582                458    458  \n",
       "3626757             8483082                343    343  \n",
       "3626781                   0                  0      0  \n",
       "\n",
       "[136951 rows x 7 columns]"
      ]
     },
     "execution_count": 119,
     "metadata": {},
     "output_type": "execute_result"
    }
   ],
   "source": [
    "twentyone[national]"
   ]
  },
  {
   "cell_type": "code",
   "execution_count": null,
   "id": "c94f511e-dc7b-448e-b895-0a044cbfb3cd",
   "metadata": {},
   "outputs": [],
   "source": []
  }
 ],
 "metadata": {
  "kernelspec": {
   "display_name": "Python 3.9.12 ('base')",
   "language": "python",
   "name": "python3"
  },
  "language_info": {
   "codemirror_mode": {
    "name": "ipython",
    "version": 3
   },
   "file_extension": ".py",
   "mimetype": "text/x-python",
   "name": "python",
   "nbconvert_exporter": "python",
   "pygments_lexer": "ipython3",
   "version": "3.9.12"
  },
  "vscode": {
   "interpreter": {
    "hash": "dbeca8284ef89a5b27d91a4ab89c0a28fe111f503469c00cf51b75cc7bee3708"
   }
  }
 },
 "nbformat": 4,
 "nbformat_minor": 5
}
