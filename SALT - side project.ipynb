{
 "cells": [
  {
   "cell_type": "code",
   "execution_count": 3,
   "metadata": {},
   "outputs": [],
   "source": [
    "import pandas as pd\n",
    "import numpy as np"
   ]
  },
  {
   "cell_type": "code",
   "execution_count": 13,
   "metadata": {},
   "outputs": [],
   "source": [
    "soi = pd.DataFrame()\n",
    "id_cols = ['COUNTYFIPS', 'COUNTYNAME', 'STATEFIPS']\n",
    "for year in range(10,18):\n",
    "    file_name = f'{year}incyallnoagi.csv'\n",
    "    tmp = pd.read_csv(file_name, encoding='latin-1')\n",
    "    list(tmp.columns)\n",
    "    tmp['salt_amount_per_cap'] = (\n",
    "            tmp['A18425'] + tmp['A18450'] + tmp['A18500']) / tmp['N1']\n",
    "    tmp = tmp[id_cols + ['salt_amount_per_cap']]\n",
    "    tmp['Year'] = int(f\"20{year}\")\n",
    "    tmp = tmp.loc[tmp['COUNTYFIPS'] != 0]\n",
    "    soi = pd.concat([soi, tmp], axis=0, ignore_index=True)\n",
    "    soi = soi.sort_values(by=id_cols + ['Year'],\n",
    "                      ascending=True)\n",
    "\n",
    "soi.to_csv('all_years_soi.csv', index=False)"
   ]
  },
  {
   "cell_type": "code",
   "execution_count": null,
   "metadata": {},
   "outputs": [],
   "source": [
    "soi = pd.read_csv('all_years_soi.csv')\n",
    "soi_avg = soi.groupby(['COUNTYFIPS', 'STATEFIPS']).mean()[['salt_amount_per_cap']]\n",
    "soi_avg = soi_avg.reset_index()\n",
    "soi_avg['STATEFIPS']=soi_avg['STATEFIPS'].astype(str)\n",
    "soi_avg['STATEFIPS']=soi_avg['STATEFIPS'].str.zfill(2)\n",
    "soi_avg['STATEFIPS2']=soi_avg['STATEFIPS']\n",
    "soi_avg['COUNTYFIPS']=soi_avg['COUNTYFIPS'].astype(str)\n",
    "soi_avg['COUNTYFIPS']=soi_avg['COUNTYFIPS'].str.zfill(3)\n",
    "soi_avg['area_fips']=soi_avg[['STATEFIPS2', 'COUNTYFIPS']].apply(lambda x: ''.join(x), axis=1)\n",
    "soi_avg_pre = soi_avg[['area_fips','STATEFIPS', 'salt_amount_per_cap']]\n",
    "\n",
    "\n"
   ]
  },
  {
   "cell_type": "code",
   "execution_count": null,
   "metadata": {},
   "outputs": [],
   "source": [
    "df1=pd.read_csv('master.csv')"
   ]
  },
  {
   "cell_type": "code",
   "execution_count": 4,
   "metadata": {},
   "outputs": [],
   "source": [
    "df2=soi_avg_pre\n",
    "df3=pd.merge(df1, df2, on=\"area_fips\")"
   ]
  },
  {
   "cell_type": "code",
   "execution_count": 14,
   "metadata": {},
   "outputs": [],
   "source": [
    "df3=df3.drop(\"Unnamed: 0\", axis=1)"
   ]
  },
  {
   "cell_type": "code",
   "execution_count": 9,
   "metadata": {},
   "outputs": [],
   "source": [
    "df3['treated'] = np.where(df3.salt_amount_per_cap > 10, 1, 0)"
   ]
  },
  {
   "cell_type": "code",
   "execution_count": 16,
   "metadata": {},
   "outputs": [],
   "source": [
    "df3.to_csv('wage_salt.csv', index=False)"
   ]
  },
  {
   "cell_type": "markdown",
   "metadata": {},
   "source": [
    "df3.head()"
   ]
  },
  {
   "cell_type": "code",
   "execution_count": 2,
   "metadata": {},
   "outputs": [],
   "source": [
    "df3=pd.read_csv('wage_salt.csv')"
   ]
  },
  {
   "cell_type": "code",
   "execution_count": 3,
   "metadata": {},
   "outputs": [],
   "source": [
    "df3.rename(columns = {\"STATEFIPS\": \"state_fips\"},\n",
    "            inplace = True)"
   ]
  },
  {
   "cell_type": "code",
   "execution_count": 4,
   "metadata": {},
   "outputs": [],
   "source": [
    "df3['treated'] = np.where(df3.salt_amount_per_cap > 10, 1, 0)\n"
   ]
  },
  {
   "cell_type": "code",
   "execution_count": 5,
   "metadata": {},
   "outputs": [],
   "source": [
    "df3['post'] = np.where(df3.year > 2017, 1, 0)"
   ]
  },
  {
   "cell_type": "code",
   "execution_count": 5,
   "metadata": {},
   "outputs": [],
   "source": [
    "df3['treated*post'] = df3.post * df3.treated"
   ]
  },
  {
   "cell_type": "code",
   "execution_count": 7,
   "metadata": {},
   "outputs": [],
   "source": [
    "df3=df3.loc[df3['industry_code'] != 10]"
   ]
  },
  {
   "cell_type": "code",
   "execution_count": 9,
   "metadata": {},
   "outputs": [],
   "source": [
    "df3.to_csv('wage_salt_v2.csv', index=False)"
   ]
  },
  {
   "cell_type": "code",
   "execution_count": 1,
   "metadata": {},
   "outputs": [
    {
     "ename": "SyntaxError",
     "evalue": "invalid syntax (3270166653.py, line 1)",
     "output_type": "error",
     "traceback": [
      "\u001b[0;36m  Cell \u001b[0;32mIn [1], line 1\u001b[0;36m\u001b[0m\n\u001b[0;31m    pip install statsmodels\u001b[0m\n\u001b[0m        ^\u001b[0m\n\u001b[0;31mSyntaxError\u001b[0m\u001b[0;31m:\u001b[0m invalid syntax\n"
     ]
    }
   ],
   "source": [
    "pip install statsmodels\n",
    "pip install linearmodels"
   ]
  },
  {
   "cell_type": "code",
   "execution_count": null,
   "metadata": {},
   "outputs": [],
   "source": []
  },
  {
   "cell_type": "code",
   "execution_count": 24,
   "metadata": {},
   "outputs": [],
   "source": [
    "import pandas as pd\n",
    "import numpy as np\n",
    "import statsmodels.api as sm\n",
    "import statsmodels.formula.api as smf\n",
    "from linearmodels.panel import PooledOLS\n"
   ]
  },
  {
   "cell_type": "code",
   "execution_count": 5,
   "metadata": {},
   "outputs": [],
   "source": [
    "df3=pd.read_csv('wage_salt_v2.csv')"
   ]
  },
  {
   "cell_type": "code",
   "execution_count": 10,
   "metadata": {},
   "outputs": [
    {
     "data": {
      "text/html": [
       "<div>\n",
       "<style scoped>\n",
       "    .dataframe tbody tr th:only-of-type {\n",
       "        vertical-align: middle;\n",
       "    }\n",
       "\n",
       "    .dataframe tbody tr th {\n",
       "        vertical-align: top;\n",
       "    }\n",
       "\n",
       "    .dataframe thead th {\n",
       "        text-align: right;\n",
       "    }\n",
       "</style>\n",
       "<table border=\"1\" class=\"dataframe\">\n",
       "  <thead>\n",
       "    <tr style=\"text-align: right;\">\n",
       "      <th></th>\n",
       "      <th></th>\n",
       "      <th>industry_code</th>\n",
       "      <th>area_title</th>\n",
       "      <th>own_title</th>\n",
       "      <th>industry_title</th>\n",
       "      <th>annual_avg_emplvl</th>\n",
       "      <th>total_annual_wages</th>\n",
       "      <th>state_fips</th>\n",
       "      <th>salt_amount_per_cap</th>\n",
       "      <th>treated</th>\n",
       "      <th>post</th>\n",
       "      <th>treated*post</th>\n",
       "      <th>year</th>\n",
       "      <th>state</th>\n",
       "      <th>industry</th>\n",
       "    </tr>\n",
       "    <tr>\n",
       "      <th>area_fips</th>\n",
       "      <th>year</th>\n",
       "      <th></th>\n",
       "      <th></th>\n",
       "      <th></th>\n",
       "      <th></th>\n",
       "      <th></th>\n",
       "      <th></th>\n",
       "      <th></th>\n",
       "      <th></th>\n",
       "      <th></th>\n",
       "      <th></th>\n",
       "      <th></th>\n",
       "      <th></th>\n",
       "      <th></th>\n",
       "      <th></th>\n",
       "    </tr>\n",
       "  </thead>\n",
       "  <tbody>\n",
       "    <tr>\n",
       "      <th rowspan=\"5\" valign=\"top\">1001</th>\n",
       "      <th>2021</th>\n",
       "      <td>10</td>\n",
       "      <td>Autauga County, Alabama</td>\n",
       "      <td>Total Covered</td>\n",
       "      <td>10 Total, all industries</td>\n",
       "      <td>11123</td>\n",
       "      <td>489569075</td>\n",
       "      <td>1</td>\n",
       "      <td>1.096738</td>\n",
       "      <td>0</td>\n",
       "      <td>1</td>\n",
       "      <td>0</td>\n",
       "      <td>2021</td>\n",
       "      <td>1</td>\n",
       "      <td>10</td>\n",
       "    </tr>\n",
       "    <tr>\n",
       "      <th>2021</th>\n",
       "      <td>10</td>\n",
       "      <td>Autauga County, Alabama</td>\n",
       "      <td>Federal Government</td>\n",
       "      <td>10 Total, all industries</td>\n",
       "      <td>80</td>\n",
       "      <td>5000584</td>\n",
       "      <td>1</td>\n",
       "      <td>1.096738</td>\n",
       "      <td>0</td>\n",
       "      <td>1</td>\n",
       "      <td>0</td>\n",
       "      <td>2021</td>\n",
       "      <td>1</td>\n",
       "      <td>10</td>\n",
       "    </tr>\n",
       "    <tr>\n",
       "      <th>2021</th>\n",
       "      <td>10</td>\n",
       "      <td>Autauga County, Alabama</td>\n",
       "      <td>State Government</td>\n",
       "      <td>10 Total, all industries</td>\n",
       "      <td>562</td>\n",
       "      <td>31105700</td>\n",
       "      <td>1</td>\n",
       "      <td>1.096738</td>\n",
       "      <td>0</td>\n",
       "      <td>1</td>\n",
       "      <td>0</td>\n",
       "      <td>2021</td>\n",
       "      <td>1</td>\n",
       "      <td>10</td>\n",
       "    </tr>\n",
       "    <tr>\n",
       "      <th>2021</th>\n",
       "      <td>10</td>\n",
       "      <td>Autauga County, Alabama</td>\n",
       "      <td>Local Government</td>\n",
       "      <td>10 Total, all industries</td>\n",
       "      <td>1874</td>\n",
       "      <td>80715986</td>\n",
       "      <td>1</td>\n",
       "      <td>1.096738</td>\n",
       "      <td>0</td>\n",
       "      <td>1</td>\n",
       "      <td>0</td>\n",
       "      <td>2021</td>\n",
       "      <td>1</td>\n",
       "      <td>10</td>\n",
       "    </tr>\n",
       "    <tr>\n",
       "      <th>2021</th>\n",
       "      <td>10</td>\n",
       "      <td>Autauga County, Alabama</td>\n",
       "      <td>Private</td>\n",
       "      <td>10 Total, all industries</td>\n",
       "      <td>8607</td>\n",
       "      <td>372746805</td>\n",
       "      <td>1</td>\n",
       "      <td>1.096738</td>\n",
       "      <td>0</td>\n",
       "      <td>1</td>\n",
       "      <td>0</td>\n",
       "      <td>2021</td>\n",
       "      <td>1</td>\n",
       "      <td>10</td>\n",
       "    </tr>\n",
       "  </tbody>\n",
       "</table>\n",
       "</div>"
      ],
      "text/plain": [
       "               industry_code               area_title           own_title  \\\n",
       "area_fips year                                                              \n",
       "1001      2021            10  Autauga County, Alabama       Total Covered   \n",
       "          2021            10  Autauga County, Alabama  Federal Government   \n",
       "          2021            10  Autauga County, Alabama    State Government   \n",
       "          2021            10  Autauga County, Alabama    Local Government   \n",
       "          2021            10  Autauga County, Alabama             Private   \n",
       "\n",
       "                          industry_title  annual_avg_emplvl  \\\n",
       "area_fips year                                                \n",
       "1001      2021  10 Total, all industries              11123   \n",
       "          2021  10 Total, all industries                 80   \n",
       "          2021  10 Total, all industries                562   \n",
       "          2021  10 Total, all industries               1874   \n",
       "          2021  10 Total, all industries               8607   \n",
       "\n",
       "                total_annual_wages  state_fips  salt_amount_per_cap  treated  \\\n",
       "area_fips year                                                                 \n",
       "1001      2021           489569075           1             1.096738        0   \n",
       "          2021             5000584           1             1.096738        0   \n",
       "          2021            31105700           1             1.096738        0   \n",
       "          2021            80715986           1             1.096738        0   \n",
       "          2021           372746805           1             1.096738        0   \n",
       "\n",
       "                post  treated*post  year state industry  \n",
       "area_fips year                                           \n",
       "1001      2021     1             0  2021     1       10  \n",
       "          2021     1             0  2021     1       10  \n",
       "          2021     1             0  2021     1       10  \n",
       "          2021     1             0  2021     1       10  \n",
       "          2021     1             0  2021     1       10  "
      ]
     },
     "execution_count": 10,
     "metadata": {},
     "output_type": "execute_result"
    }
   ],
   "source": [
    "df3.head()"
   ]
  },
  {
   "cell_type": "code",
   "execution_count": null,
   "metadata": {},
   "outputs": [],
   "source": []
  },
  {
   "cell_type": "code",
   "execution_count": 6,
   "metadata": {},
   "outputs": [],
   "source": [
    "year = pd.Categorical(df3.year)\n",
    "df3 = df3.set_index(['area_fips', 'year'])\n",
    "df3['year'] = year\n"
   ]
  },
  {
   "cell_type": "code",
   "execution_count": 7,
   "metadata": {},
   "outputs": [],
   "source": [
    "state = pd.Categorical(df3.state_fips)\n",
    "df3['state'] = state"
   ]
  },
  {
   "cell_type": "code",
   "execution_count": 8,
   "metadata": {},
   "outputs": [],
   "source": [
    "industry = pd.Categorical(df3.industry_code)\n",
    "df3['industry'] = industry"
   ]
  },
  {
   "cell_type": "code",
   "execution_count": 16,
   "metadata": {},
   "outputs": [
    {
     "data": {
      "text/plain": [
       "17463132"
      ]
     },
     "execution_count": 16,
     "metadata": {},
     "output_type": "execute_result"
    }
   ],
   "source": [
    "df_wage_zero=df3.loc[df3['total_annual_wages'] == 0]\n",
    "len(df_wage_zero.index) "
   ]
  },
  {
   "cell_type": "code",
   "execution_count": 17,
   "metadata": {},
   "outputs": [],
   "source": [
    "df3=df3.loc[df3['total_annual_wages'] != 0]"
   ]
  },
  {
   "cell_type": "code",
   "execution_count": 15,
   "metadata": {},
   "outputs": [
    {
     "data": {
      "text/html": [
       "<div>\n",
       "<style scoped>\n",
       "    .dataframe tbody tr th:only-of-type {\n",
       "        vertical-align: middle;\n",
       "    }\n",
       "\n",
       "    .dataframe tbody tr th {\n",
       "        vertical-align: top;\n",
       "    }\n",
       "\n",
       "    .dataframe thead th {\n",
       "        text-align: right;\n",
       "    }\n",
       "</style>\n",
       "<table border=\"1\" class=\"dataframe\">\n",
       "  <thead>\n",
       "    <tr style=\"text-align: right;\">\n",
       "      <th></th>\n",
       "      <th></th>\n",
       "      <th>industry_code</th>\n",
       "      <th>area_title</th>\n",
       "      <th>own_title</th>\n",
       "      <th>industry_title</th>\n",
       "      <th>annual_avg_emplvl</th>\n",
       "      <th>total_annual_wages</th>\n",
       "      <th>state_fips</th>\n",
       "      <th>salt_amount_per_cap</th>\n",
       "      <th>treated</th>\n",
       "      <th>post</th>\n",
       "      <th>treated*post</th>\n",
       "      <th>year</th>\n",
       "      <th>state</th>\n",
       "      <th>industry</th>\n",
       "    </tr>\n",
       "    <tr>\n",
       "      <th>area_fips</th>\n",
       "      <th>year</th>\n",
       "      <th></th>\n",
       "      <th></th>\n",
       "      <th></th>\n",
       "      <th></th>\n",
       "      <th></th>\n",
       "      <th></th>\n",
       "      <th></th>\n",
       "      <th></th>\n",
       "      <th></th>\n",
       "      <th></th>\n",
       "      <th></th>\n",
       "      <th></th>\n",
       "      <th></th>\n",
       "      <th></th>\n",
       "    </tr>\n",
       "  </thead>\n",
       "  <tbody>\n",
       "    <tr>\n",
       "      <th rowspan=\"2\" valign=\"top\">17095</th>\n",
       "      <th>2021</th>\n",
       "      <td>92611</td>\n",
       "      <td>Knox County, Illinois</td>\n",
       "      <td>Federal Government</td>\n",
       "      <td>NAICS 92611 Administration of general economic...</td>\n",
       "      <td>0</td>\n",
       "      <td>10</td>\n",
       "      <td>17</td>\n",
       "      <td>1.325571</td>\n",
       "      <td>0</td>\n",
       "      <td>1</td>\n",
       "      <td>0</td>\n",
       "      <td>2021</td>\n",
       "      <td>17</td>\n",
       "      <td>92611</td>\n",
       "    </tr>\n",
       "    <tr>\n",
       "      <th>2021</th>\n",
       "      <td>926110</td>\n",
       "      <td>Knox County, Illinois</td>\n",
       "      <td>Federal Government</td>\n",
       "      <td>NAICS 926110 Administration of general economi...</td>\n",
       "      <td>0</td>\n",
       "      <td>10</td>\n",
       "      <td>17</td>\n",
       "      <td>1.325571</td>\n",
       "      <td>0</td>\n",
       "      <td>1</td>\n",
       "      <td>0</td>\n",
       "      <td>2021</td>\n",
       "      <td>17</td>\n",
       "      <td>926110</td>\n",
       "    </tr>\n",
       "  </tbody>\n",
       "</table>\n",
       "</div>"
      ],
      "text/plain": [
       "               industry_code             area_title           own_title  \\\n",
       "area_fips year                                                            \n",
       "17095     2021         92611  Knox County, Illinois  Federal Government   \n",
       "          2021        926110  Knox County, Illinois  Federal Government   \n",
       "\n",
       "                                                   industry_title  \\\n",
       "area_fips year                                                      \n",
       "17095     2021  NAICS 92611 Administration of general economic...   \n",
       "          2021  NAICS 926110 Administration of general economi...   \n",
       "\n",
       "                annual_avg_emplvl  total_annual_wages  state_fips  \\\n",
       "area_fips year                                                      \n",
       "17095     2021                  0                  10          17   \n",
       "          2021                  0                  10          17   \n",
       "\n",
       "                salt_amount_per_cap  treated  post  treated*post  year state  \\\n",
       "area_fips year                                                                 \n",
       "17095     2021             1.325571        0     1             0  2021    17   \n",
       "          2021             1.325571        0     1             0  2021    17   \n",
       "\n",
       "               industry  \n",
       "area_fips year           \n",
       "17095     2021    92611  \n",
       "          2021   926110  "
      ]
     },
     "execution_count": 15,
     "metadata": {},
     "output_type": "execute_result"
    }
   ],
   "source": [
    "df_wage_zero.head()"
   ]
  },
  {
   "cell_type": "code",
   "execution_count": 14,
   "metadata": {},
   "outputs": [],
   "source": [
    "df5=df3.iloc[100000:2000000]"
   ]
  },
  {
   "cell_type": "code",
   "execution_count": 18,
   "metadata": {},
   "outputs": [
    {
     "data": {
      "text/html": [
       "<div>\n",
       "<style scoped>\n",
       "    .dataframe tbody tr th:only-of-type {\n",
       "        vertical-align: middle;\n",
       "    }\n",
       "\n",
       "    .dataframe tbody tr th {\n",
       "        vertical-align: top;\n",
       "    }\n",
       "\n",
       "    .dataframe thead th {\n",
       "        text-align: right;\n",
       "    }\n",
       "</style>\n",
       "<table border=\"1\" class=\"dataframe\">\n",
       "  <thead>\n",
       "    <tr style=\"text-align: right;\">\n",
       "      <th></th>\n",
       "      <th>industry_code</th>\n",
       "      <th>area_title</th>\n",
       "      <th>own_title</th>\n",
       "      <th>industry_title</th>\n",
       "      <th>annual_avg_emplvl</th>\n",
       "      <th>total_annual_wages</th>\n",
       "      <th>state_fips</th>\n",
       "      <th>salt_amount_per_cap</th>\n",
       "      <th>treated</th>\n",
       "      <th>post</th>\n",
       "      <th>treated*post</th>\n",
       "      <th>state</th>\n",
       "      <th>industry</th>\n",
       "      <th>year</th>\n",
       "    </tr>\n",
       "  </thead>\n",
       "  <tbody>\n",
       "    <tr>\n",
       "      <th>1999995</th>\n",
       "      <td>923120</td>\n",
       "      <td>San Diego County, California</td>\n",
       "      <td>State Government</td>\n",
       "      <td>NAICS 923120 Administration of public health p...</td>\n",
       "      <td>0</td>\n",
       "      <td>0</td>\n",
       "      <td>6</td>\n",
       "      <td>4.963774</td>\n",
       "      <td>0</td>\n",
       "      <td>1</td>\n",
       "      <td>0</td>\n",
       "      <td>6</td>\n",
       "      <td>923120</td>\n",
       "      <td>2018</td>\n",
       "    </tr>\n",
       "    <tr>\n",
       "      <th>1999996</th>\n",
       "      <td>92313</td>\n",
       "      <td>San Diego County, California</td>\n",
       "      <td>Federal Government</td>\n",
       "      <td>NAICS 92313 Other human resource programs admi...</td>\n",
       "      <td>372</td>\n",
       "      <td>33977974</td>\n",
       "      <td>6</td>\n",
       "      <td>4.963774</td>\n",
       "      <td>0</td>\n",
       "      <td>1</td>\n",
       "      <td>0</td>\n",
       "      <td>6</td>\n",
       "      <td>92313</td>\n",
       "      <td>2018</td>\n",
       "    </tr>\n",
       "    <tr>\n",
       "      <th>1999997</th>\n",
       "      <td>92313</td>\n",
       "      <td>San Diego County, California</td>\n",
       "      <td>State Government</td>\n",
       "      <td>NAICS 92313 Other human resource programs admi...</td>\n",
       "      <td>983</td>\n",
       "      <td>76855234</td>\n",
       "      <td>6</td>\n",
       "      <td>4.963774</td>\n",
       "      <td>0</td>\n",
       "      <td>1</td>\n",
       "      <td>0</td>\n",
       "      <td>6</td>\n",
       "      <td>92313</td>\n",
       "      <td>2018</td>\n",
       "    </tr>\n",
       "    <tr>\n",
       "      <th>1999998</th>\n",
       "      <td>92313</td>\n",
       "      <td>San Diego County, California</td>\n",
       "      <td>Local Government</td>\n",
       "      <td>NAICS 92313 Other human resource programs admi...</td>\n",
       "      <td>0</td>\n",
       "      <td>0</td>\n",
       "      <td>6</td>\n",
       "      <td>4.963774</td>\n",
       "      <td>0</td>\n",
       "      <td>1</td>\n",
       "      <td>0</td>\n",
       "      <td>6</td>\n",
       "      <td>92313</td>\n",
       "      <td>2018</td>\n",
       "    </tr>\n",
       "    <tr>\n",
       "      <th>1999999</th>\n",
       "      <td>923130</td>\n",
       "      <td>San Diego County, California</td>\n",
       "      <td>Federal Government</td>\n",
       "      <td>NAICS 923130 Other human resource programs adm...</td>\n",
       "      <td>372</td>\n",
       "      <td>33977974</td>\n",
       "      <td>6</td>\n",
       "      <td>4.963774</td>\n",
       "      <td>0</td>\n",
       "      <td>1</td>\n",
       "      <td>0</td>\n",
       "      <td>6</td>\n",
       "      <td>923130</td>\n",
       "      <td>2018</td>\n",
       "    </tr>\n",
       "  </tbody>\n",
       "</table>\n",
       "</div>"
      ],
      "text/plain": [
       "        industry_code                    area_title           own_title  \\\n",
       "1999995        923120  San Diego County, California    State Government   \n",
       "1999996         92313  San Diego County, California  Federal Government   \n",
       "1999997         92313  San Diego County, California    State Government   \n",
       "1999998         92313  San Diego County, California    Local Government   \n",
       "1999999        923130  San Diego County, California  Federal Government   \n",
       "\n",
       "                                            industry_title  annual_avg_emplvl  \\\n",
       "1999995  NAICS 923120 Administration of public health p...                  0   \n",
       "1999996  NAICS 92313 Other human resource programs admi...                372   \n",
       "1999997  NAICS 92313 Other human resource programs admi...                983   \n",
       "1999998  NAICS 92313 Other human resource programs admi...                  0   \n",
       "1999999  NAICS 923130 Other human resource programs adm...                372   \n",
       "\n",
       "         total_annual_wages  state_fips  salt_amount_per_cap  treated  post  \\\n",
       "1999995                   0           6             4.963774        0     1   \n",
       "1999996            33977974           6             4.963774        0     1   \n",
       "1999997            76855234           6             4.963774        0     1   \n",
       "1999998                   0           6             4.963774        0     1   \n",
       "1999999            33977974           6             4.963774        0     1   \n",
       "\n",
       "         treated*post  state industry  year  \n",
       "1999995             0      6   923120  2018  \n",
       "1999996             0      6    92313  2018  \n",
       "1999997             0      6    92313  2018  \n",
       "1999998             0      6    92313  2018  \n",
       "1999999             0      6   923130  2018  "
      ]
     },
     "execution_count": 18,
     "metadata": {},
     "output_type": "execute_result"
    }
   ],
   "source": [
    "df5.tail()"
   ]
  },
  {
   "cell_type": "code",
   "execution_count": 26,
   "metadata": {},
   "outputs": [
    {
     "data": {
      "text/plain": [
       "industry_code            object\n",
       "area_title               object\n",
       "own_title                object\n",
       "industry_title           object\n",
       "annual_avg_emplvl         int64\n",
       "total_annual_wages        int64\n",
       "state_fips                int64\n",
       "salt_amount_per_cap     float64\n",
       "treated                   int64\n",
       "post                      int64\n",
       "treated*post              int64\n",
       "year                   category\n",
       "state                  category\n",
       "industry               category\n",
       "dtype: object"
      ]
     },
     "execution_count": 26,
     "metadata": {},
     "output_type": "execute_result"
    }
   ],
   "source": [
    "df3.dtypes"
   ]
  },
  {
   "cell_type": "code",
   "execution_count": 28,
   "metadata": {},
   "outputs": [],
   "source": [
    "logwage = np.log(df3.total_annual_wages)"
   ]
  },
  {
   "cell_type": "code",
   "execution_count": 29,
   "metadata": {},
   "outputs": [
    {
     "name": "stdout",
     "output_type": "stream",
     "text": [
      "                          PooledOLS Estimation Summary                          \n",
      "================================================================================\n",
      "Dep. Variable:     total_annual_wages   R-squared:                        0.0066\n",
      "Estimator:                  PooledOLS   R-squared (Between):             -0.7435\n",
      "No. Observations:            10158863   R-squared (Within):            2.526e-05\n",
      "Date:                Sat, Nov 19 2022   R-squared (Overall):              0.0066\n",
      "Time:                        16:59:51   Log-likelihood                -2.164e+07\n",
      "Cov. Estimator:            Unadjusted                                           \n",
      "                                        F-statistic:                      6721.6\n",
      "Entities:                        3144   P-value                           0.0000\n",
      "Avg Obs:                       3231.2   Distribution:             F(10,10158852)\n",
      "Min Obs:                       84.000                                           \n",
      "Max Obs:                    2.203e+04   F-statistic (robust):             6721.6\n",
      "                                        P-value                           0.0000\n",
      "Time periods:                      10   Distribution:             F(10,10158852)\n",
      "Avg Obs:                    1.016e+06                                           \n",
      "Min Obs:                     1.01e+06                                           \n",
      "Max Obs:                    1.024e+06                                           \n",
      "                                                                                \n",
      "                              Parameter Estimates                               \n",
      "================================================================================\n",
      "              Parameter  Std. Err.     T-stat    P-value    Lower CI    Upper CI\n",
      "--------------------------------------------------------------------------------\n",
      "const            15.026     0.0020     7427.8     0.0000      15.022      15.030\n",
      "treated*post     1.7163     0.0085     203.06     0.0000      1.6997      1.7329\n",
      "year.2013        0.0349     0.0029     12.179     0.0000      0.0293      0.0405\n",
      "year.2014        0.0825     0.0029     28.806     0.0000      0.0769      0.0881\n",
      "year.2015        0.1249     0.0029     43.650     0.0000      0.1193      0.1305\n",
      "year.2016        0.1581     0.0029     55.255     0.0000      0.1525      0.1637\n",
      "year.2017        0.1959     0.0029     68.481     0.0000      0.1903      0.2015\n",
      "year.2018        0.2074     0.0029     72.503     0.0000      0.2017      0.2130\n",
      "year.2019        0.2166     0.0029     75.816     0.0000      0.2110      0.2221\n",
      "year.2020        0.2378     0.0029     83.252     0.0000      0.2322      0.2434\n",
      "year.2021        0.3212     0.0029     112.33     0.0000      0.3156      0.3268\n",
      "================================================================================\n"
     ]
    }
   ],
   "source": [
    "exog_vars = ['treated*post', 'year']\n",
    "exog = sm.add_constant(df3[exog_vars])\n",
    "mod = PooledOLS(logwage, exog)\n",
    "pooled_res = mod.fit()\n",
    "print(pooled_res)"
   ]
  },
  {
   "cell_type": "code",
   "execution_count": 23,
   "metadata": {},
   "outputs": [
    {
     "ename": "NameError",
     "evalue": "name 'smf' is not defined",
     "output_type": "error",
     "traceback": [
      "\u001b[0;31m---------------------------------------------------------------------------\u001b[0m",
      "\u001b[0;31mNameError\u001b[0m                                 Traceback (most recent call last)",
      "Cell \u001b[0;32mIn [23], line 1\u001b[0m\n\u001b[0;32m----> 1\u001b[0m \u001b[39mdir\u001b[39m(smf)\n",
      "\u001b[0;31mNameError\u001b[0m: name 'smf' is not defined"
     ]
    }
   ],
   "source": [
    "dir(smf)"
   ]
  },
  {
   "cell_type": "code",
   "execution_count": 27,
   "metadata": {},
   "outputs": [
    {
     "name": "stdout",
     "output_type": "stream",
     "text": [
      "                            OLS Regression Results                            \n",
      "==============================================================================\n",
      "Dep. Variable:                logwage   R-squared:                       0.013\n",
      "Model:                            OLS   Adj. R-squared:                  0.013\n",
      "Method:                 Least Squares   F-statistic:                 1.184e+04\n",
      "Date:                Sat, 19 Nov 2022   Prob (F-statistic):               0.00\n",
      "Time:                        16:52:25   Log-Likelihood:            -2.1608e+07\n",
      "No. Observations:            10158863   AIC:                         4.322e+07\n",
      "Df Residuals:                10158851   BIC:                         4.322e+07\n",
      "Df Model:                          11                                         \n",
      "Covariance Type:            nonrobust                                         \n",
      "===================================================================================\n",
      "                      coef    std err          t      P>|t|      [0.025      0.975]\n",
      "-----------------------------------------------------------------------------------\n",
      "Intercept          15.0007      0.002   7245.973      0.000      14.997      15.005\n",
      "C(year)[T.2013]     0.0360      0.003     11.891      0.000       0.030       0.042\n",
      "C(year)[T.2014]     0.0836      0.003     27.859      0.000       0.078       0.090\n",
      "C(year)[T.2015]     0.1245      0.003     43.103      0.000       0.119       0.130\n",
      "C(year)[T.2016]     0.1585      0.003     55.449      0.000       0.153       0.164\n",
      "C(year)[T.2017]     0.1968      0.003     67.557      0.000       0.191       0.202\n",
      "C(year)[T.2018] -2.491e+11   2.34e+11     -1.066      0.286   -7.07e+11    2.09e+11\n",
      "C(year)[T.2019] -2.491e+11   2.34e+11     -1.066      0.286   -7.07e+11    2.09e+11\n",
      "C(year)[T.2020] -2.491e+11   2.34e+11     -1.066      0.286   -7.07e+11    2.09e+11\n",
      "C(year)[T.2021] -2.491e+11   2.34e+11     -1.066      0.286   -7.07e+11    2.09e+11\n",
      "treated             1.7190      0.007    250.284      0.000       1.706       1.732\n",
      "post             2.491e+11   2.34e+11      1.066      0.286   -2.09e+11    7.07e+11\n",
      "treated:post       -0.0027      0.011     -0.246      0.806      -0.024       0.019\n",
      "==============================================================================\n",
      "Omnibus:                   239564.200   Durbin-Watson:                   0.844\n",
      "Prob(Omnibus):                  0.000   Jarque-Bera (JB):           287123.422\n",
      "Skew:                           0.324   Prob(JB):                         0.00\n",
      "Kurtosis:                       3.509   Cond. No.                     9.34e+14\n",
      "==============================================================================\n",
      "\n",
      "Notes:\n",
      "[1] Standard Errors assume that the covariance matrix of the errors is correctly specified.\n",
      "[2] The smallest eigenvalue is 1.51e-23. This might indicate that there are\n",
      "strong multicollinearity problems or that the design matrix is singular.\n"
     ]
    }
   ],
   "source": [
    "FE_ols = smf.ols(formula='logwage ~ 1 + treated*post + C(year)',\n",
    "data = df3).fit()\n",
    "print(FE_ols.summary())"
   ]
  },
  {
   "cell_type": "code",
   "execution_count": null,
   "metadata": {},
   "outputs": [],
   "source": [
    "FE_ols = smf.ols(formula='logwage ~ 1 + treated*post + C(year) + C(state)',\n",
    "data = df3).fit()\n",
    "print(FE_ols.summary())"
   ]
  },
  {
   "cell_type": "code",
   "execution_count": null,
   "metadata": {},
   "outputs": [],
   "source": []
  }
 ],
 "metadata": {
  "kernelspec": {
   "display_name": "Python 3.10.7 64-bit",
   "language": "python",
   "name": "python3"
  },
  "language_info": {
   "codemirror_mode": {
    "name": "ipython",
    "version": 3
   },
   "file_extension": ".py",
   "mimetype": "text/x-python",
   "name": "python",
   "nbconvert_exporter": "python",
   "pygments_lexer": "ipython3",
   "version": "3.10.7"
  },
  "orig_nbformat": 4,
  "vscode": {
   "interpreter": {
    "hash": "aee8b7b246df8f9039afb4144a1f6fd8d2ca17a180786b69acc140d282b71a49"
   }
  }
 },
 "nbformat": 4,
 "nbformat_minor": 2
}
